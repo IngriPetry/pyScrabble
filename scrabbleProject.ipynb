{
 "cells": [
  {
   "cell_type": "code",
   "execution_count": 1,
   "metadata": {},
   "outputs": [],
   "source": [
    "import copy\n",
    "from consts import letterPoints\n",
    "from board import boardMultiplier, WORD, LETTER, displayCharacter\n",
    "from letter import Word, Letter"
   ]
  },
  {
   "cell_type": "code",
   "execution_count": 2,
   "metadata": {},
   "outputs": [],
   "source": [
    "class Scrabble():\n",
    "\n",
    "    def __init__(self):\n",
    "        self.board = []\n",
    "        for i in range(15):\n",
    "            self.board.append([None] * 15)\n",
    "\n",
    "        self.oldBoard = copy.deepcopy(self.board)\n",
    "\n",
    "    def printBoard(self,printSpecial=False):\n",
    "        for y, line in enumerate(self.board):\n",
    "            for x, char in enumerate(line):\n",
    "                if char is None:\n",
    "                    if (y, x) in boardMultiplier:\n",
    "                        ty = boardMultiplier[(y,x)]\n",
    "                        char = displayCharacter[ty]\n",
    "                    else:\n",
    "                        char = '-'\n",
    "                print(f\" {char} \", end='')\n",
    "            print()\n",
    "\n",
    "    def placeLetter(self,letter,y,x):\n",
    "        self.board[y][x] = Letter(letter,y,x,True)\n",
    "\n",
    "    def difference(self):\n",
    "        newLetters = []\n",
    "\n",
    "        for i in range(len(self.board)):\n",
    "            for j in range(len(self.board[0])):\n",
    "                if self.board[i][j] != self.oldBoard[i][j]:\n",
    "                    newLetters.append((i,j))\n",
    "        return newLetters\n",
    "\n",
    "    def horizontal(self,y,x):\n",
    "        pointerX = x\n",
    "\n",
    "        while (pointerX>0 and self.board[y][pointerX-1] is not None):\n",
    "            pointerX -= 1\n",
    "\n",
    "        word = Word()\n",
    "\n",
    "        while (pointerX<len(self.board[0]) and self.board[y][pointerX] is not None):\n",
    "            word.addLetter(self.board[y][pointerX])\n",
    "            pointerX += 1\n",
    "            \n",
    "        return word\n",
    "\n",
    "    def vertical(self,y,x):\n",
    "        pointerY = y\n",
    "\n",
    "        while (pointerY>0 and self.board[pointerY-1][x] is not None):\n",
    "            pointerY -= 1\n",
    "\n",
    "        word = Word()\n",
    "\n",
    "        while (pointerY<len(self.board) and self.board[pointerY][x] is not None):\n",
    "            word.addLetter(self.board[pointerY][x])\n",
    "            pointerY += 1\n",
    "\n",
    "        return word\n",
    "\n",
    "    def verifyWord(self,word):\n",
    "        if len(word.letters)>1:\n",
    "            return word\n",
    "        return None\n",
    "\n",
    "    def endTurn(self):\n",
    "        newLetters = self.difference()\n",
    "        completeWords = []\n",
    "\n",
    "        for y,x in newLetters:\n",
    "            print(f'Na posicao {y},{x} estava a letra {self.board[y][x]}')\n",
    "            verticalWord = self.verifyWord(self.vertical(y,x))\n",
    "            horizontalWord = self.verifyWord(self.horizontal(y,x))\n",
    "            if verticalWord is not None:\n",
    "                if verticalWord not in completeWords:\n",
    "                    completeWords.append(verticalWord)\n",
    "            if horizontalWord is not None:\n",
    "                if horizontalWord not in completeWords:\n",
    "                    completeWords.append(horizontalWord)\n",
    "\n",
    "        for palavra in completeWords:\n",
    "            print(f\"The word {palavra} has scored {palavra.getWordScore()} points\")\n",
    "\n",
    "\n",
    "        self.oldBoard = copy.deepcopy(self.board)\n",
    "\n",
    "           "
   ]
  },
  {
   "cell_type": "code",
   "execution_count": 3,
   "metadata": {},
   "outputs": [],
   "source": [
    "game = Scrabble()\n"
   ]
  },
  {
   "cell_type": "code",
   "execution_count": 4,
   "metadata": {},
   "outputs": [],
   "source": [
    "game.placeLetter('p',1,7)\n",
    "game.placeLetter('a',2,7)\n",
    "game.placeLetter('t',3,7)\n",
    "game.placeLetter('o',4,7)"
   ]
  },
  {
   "cell_type": "code",
   "execution_count": 5,
   "metadata": {},
   "outputs": [
    {
     "name": "stdout",
     "output_type": "stream",
     "text": [
      " #  -  -  -  -  -  -  #  -  -  -  -  -  -  # \n",
      " -  *  -  -  -  &  -  p  -  &  -  -  -  *  - \n",
      " -  -  *  -  -  -  !  a  !  -  -  -  *  -  - \n",
      " !  -  -  *  -  -  -  t  -  -  -  *  -  !  - \n",
      " -  -  -  -  *  -  -  o  -  -  *  -  -  -  - \n",
      " -  &  -  -  -  &  -  -  -  &  -  -  -  &  - \n",
      " -  -  !  -  -  -  !  -  !  -  -  -  !  -  - \n",
      " #  -  -  !  -  -  -  *  -  -  -  !  -  -  # \n",
      " -  -  !  -  -  -  !  -  !  -  -  -  !  -  - \n",
      " -  &  -  -  -  &  -  -  -  &  -  -  -  &  - \n",
      " -  -  -  -  *  -  -  -  -  -  *  -  -  -  - \n",
      " !  -  -  *  -  -  -  !  -  -  -  *  -  !  - \n",
      " -  -  *  -  -  -  !  -  !  -  -  -  *  -  - \n",
      " -  *  -  -  -  &  -  -  -  -  -  -  -  *  - \n",
      " #  -  -  -  -  -  -  #  -  -  -  -  -  -  # \n"
     ]
    }
   ],
   "source": [
    "game.printBoard()"
   ]
  },
  {
   "cell_type": "code",
   "execution_count": 6,
   "metadata": {},
   "outputs": [
    {
     "name": "stdout",
     "output_type": "stream",
     "text": [
      "Na posicao 1,7 estava a letra p\n"
     ]
    },
    {
     "ename": "TypeError",
     "evalue": "unhashable type: 'Word'",
     "output_type": "error",
     "traceback": [
      "\u001b[1;31m---------------------------------------------------------------------------\u001b[0m",
      "\u001b[1;31mTypeError\u001b[0m                                 Traceback (most recent call last)",
      "\u001b[1;32m<ipython-input-6-5fb1d4743510>\u001b[0m in \u001b[0;36m<module>\u001b[1;34m\u001b[0m\n\u001b[1;32m----> 1\u001b[1;33m \u001b[0mgame\u001b[0m\u001b[1;33m.\u001b[0m\u001b[0mendTurn\u001b[0m\u001b[1;33m(\u001b[0m\u001b[1;33m)\u001b[0m\u001b[1;33m\u001b[0m\u001b[1;33m\u001b[0m\u001b[0m\n\u001b[0m",
      "\u001b[1;32m<ipython-input-2-717061f09f1f>\u001b[0m in \u001b[0;36mendTurn\u001b[1;34m(self)\u001b[0m\n\u001b[0;32m     74\u001b[0m             \u001b[0mhorizontalWord\u001b[0m \u001b[1;33m=\u001b[0m \u001b[0mself\u001b[0m\u001b[1;33m.\u001b[0m\u001b[0mverifyWord\u001b[0m\u001b[1;33m(\u001b[0m\u001b[0mself\u001b[0m\u001b[1;33m.\u001b[0m\u001b[0mhorizontal\u001b[0m\u001b[1;33m(\u001b[0m\u001b[0my\u001b[0m\u001b[1;33m,\u001b[0m\u001b[0mx\u001b[0m\u001b[1;33m)\u001b[0m\u001b[1;33m)\u001b[0m\u001b[1;33m\u001b[0m\u001b[1;33m\u001b[0m\u001b[0m\n\u001b[0;32m     75\u001b[0m             \u001b[1;32mif\u001b[0m \u001b[0mverticalWord\u001b[0m \u001b[1;32mis\u001b[0m \u001b[1;32mnot\u001b[0m \u001b[1;32mNone\u001b[0m\u001b[1;33m:\u001b[0m\u001b[1;33m\u001b[0m\u001b[1;33m\u001b[0m\u001b[0m\n\u001b[1;32m---> 76\u001b[1;33m                 \u001b[0mcompleteWords\u001b[0m\u001b[1;33m.\u001b[0m\u001b[0madd\u001b[0m\u001b[1;33m(\u001b[0m\u001b[0mverticalWord\u001b[0m\u001b[1;33m)\u001b[0m\u001b[1;33m\u001b[0m\u001b[1;33m\u001b[0m\u001b[0m\n\u001b[0m\u001b[0;32m     77\u001b[0m             \u001b[1;32mif\u001b[0m \u001b[0mhorizontalWord\u001b[0m \u001b[1;32mis\u001b[0m \u001b[1;32mnot\u001b[0m \u001b[1;32mNone\u001b[0m\u001b[1;33m:\u001b[0m\u001b[1;33m\u001b[0m\u001b[1;33m\u001b[0m\u001b[0m\n\u001b[0;32m     78\u001b[0m                 \u001b[0mcompleteWords\u001b[0m\u001b[1;33m.\u001b[0m\u001b[0madd\u001b[0m\u001b[1;33m(\u001b[0m\u001b[0mhorizontalWord\u001b[0m\u001b[1;33m)\u001b[0m\u001b[1;33m\u001b[0m\u001b[1;33m\u001b[0m\u001b[0m\n",
      "\u001b[1;31mTypeError\u001b[0m: unhashable type: 'Word'"
     ]
    }
   ],
   "source": [
    "game.endTurn()"
   ]
  },
  {
   "cell_type": "code",
   "execution_count": null,
   "metadata": {},
   "outputs": [],
   "source": [
    "game.placeLetter('c',2,6)\n",
    "game.placeLetter('s',2,8)\n",
    "game.placeLetter('a',2,9)"
   ]
  },
  {
   "cell_type": "code",
   "execution_count": null,
   "metadata": {},
   "outputs": [
    {
     "name": "stdout",
     "output_type": "stream",
     "text": [
      " #  -  -  -  -  -  -  #  -  -  -  -  -  -  # \n",
      " -  *  -  -  -  &  -  p  -  &  -  -  -  *  - \n",
      " -  -  *  -  -  -  c  a  s  a  -  -  *  -  - \n",
      " !  -  -  *  -  -  -  t  -  -  -  *  -  !  - \n",
      " -  -  -  -  *  -  -  o  -  -  *  -  -  -  - \n",
      " -  &  -  -  -  &  -  -  -  &  -  -  -  &  - \n",
      " -  -  !  -  -  -  !  -  !  -  -  -  !  -  - \n",
      " #  -  -  !  -  -  -  *  -  -  -  !  -  -  # \n",
      " -  -  !  -  -  -  !  -  !  -  -  -  !  -  - \n",
      " -  &  -  -  -  &  -  -  -  &  -  -  -  &  - \n",
      " -  -  -  -  *  -  -  -  -  -  *  -  -  -  - \n",
      " !  -  -  *  -  -  -  !  -  -  -  *  -  !  - \n",
      " -  -  *  -  -  -  !  -  !  -  -  -  *  -  - \n",
      " -  *  -  -  -  &  -  -  -  -  -  -  -  *  - \n",
      " #  -  -  -  -  -  -  #  -  -  -  -  -  -  # \n"
     ]
    }
   ],
   "source": [
    "game.printBoard()"
   ]
  },
  {
   "cell_type": "code",
   "execution_count": null,
   "metadata": {},
   "outputs": [
    {
     "name": "stdout",
     "output_type": "stream",
     "text": [
      "Na posicao 1,7 estava a letra p\n",
      "Na posicao 2,6 estava a letra c\n",
      "Na posicao 2,7 estava a letra a\n",
      "Na posicao 2,8 estava a letra s\n",
      "Na posicao 2,9 estava a letra a\n",
      "Na posicao 3,7 estava a letra t\n",
      "Na posicao 4,7 estava a letra o\n",
      "<class 'letter.Word'>\n",
      "The word pato has scored 6 points\n",
      "<class 'letter.Word'>\n",
      "The word casa has scored 8 points\n",
      "<class 'letter.Word'>\n",
      "The word pato has scored 6 points\n",
      "<class 'letter.Word'>\n",
      "The word casa has scored 8 points\n",
      "<class 'letter.Word'>\n",
      "The word pato has scored 6 points\n",
      "<class 'letter.Word'>\n",
      "The word pato has scored 6 points\n",
      "<class 'letter.Word'>\n",
      "The word casa has scored 8 points\n",
      "<class 'letter.Word'>\n",
      "The word casa has scored 8 points\n"
     ]
    }
   ],
   "source": [
    "game.endTurn()\n"
   ]
  },
  {
   "cell_type": "code",
   "execution_count": null,
   "metadata": {},
   "outputs": [],
   "source": []
  }
 ],
 "metadata": {
  "interpreter": {
   "hash": "29e8e3d70374d27df78fb9609457c2c82228d15717167c1624bb079fc9cac605"
  },
  "kernelspec": {
   "display_name": "Python 3.8.8 ('base')",
   "language": "python",
   "name": "python3"
  },
  "language_info": {
   "codemirror_mode": {
    "name": "ipython",
    "version": 3
   },
   "file_extension": ".py",
   "mimetype": "text/x-python",
   "name": "python",
   "nbconvert_exporter": "python",
   "pygments_lexer": "ipython3",
   "version": "3.8.8"
  },
  "orig_nbformat": 4
 },
 "nbformat": 4,
 "nbformat_minor": 2
}
